{
  "nbformat": 4,
  "nbformat_minor": 0,
  "metadata": {
    "colab": {
      "name": "FaceMaskDetection.ipynb",
      "provenance": [],
      "collapsed_sections": []
    },
    "kernelspec": {
      "name": "python3",
      "display_name": "Python 3"
    },
    "language_info": {
      "name": "python"
    },
    "accelerator": "GPU"
  },
  "cells": [
    {
      "cell_type": "code",
      "metadata": {
        "id": "1jGrZWbFu9Sf",
        "outputId": "360e1760-6659-4bd1-c5c2-50577085431d",
        "colab": {
          "base_uri": "https://localhost:8080/"
        }
      },
      "source": [
        "!pip install -q kaggle\n",
        "!mkdir ~/.kaggle\n",
        "!cp kaggle.json ~/.kaggle/"
      ],
      "execution_count": 2,
      "outputs": [
        {
          "output_type": "stream",
          "name": "stdout",
          "text": [
            "mkdir: cannot create directory ‘/root/.kaggle’: File exists\n"
          ]
        }
      ]
    },
    {
      "cell_type": "code",
      "metadata": {
        "id": "SYH9G-OAsHnG",
        "colab": {
          "base_uri": "https://localhost:8080/"
        },
        "outputId": "c2b10b6d-c30d-42bc-942e-238c60dd6015"
      },
      "source": [
        "!kaggle datasets download -d ashishjangra27/face-mask-12k-images-dataset\n"
      ],
      "execution_count": 3,
      "outputs": [
        {
          "output_type": "stream",
          "name": "stdout",
          "text": [
            "Warning: Your Kaggle API key is readable by other users on this system! To fix this, you can run 'chmod 600 /root/.kaggle/kaggle.json'\n",
            "Downloading face-mask-12k-images-dataset.zip to /content\n",
            " 95% 313M/330M [00:02<00:00, 128MB/s]\n",
            "100% 330M/330M [00:02<00:00, 132MB/s]\n"
          ]
        }
      ]
    },
    {
      "cell_type": "code",
      "metadata": {
        "id": "k7DzBnAllg2Q"
      },
      "source": [
        "!unzip -qq face-mask-12k-images-dataset.zip"
      ],
      "execution_count": 4,
      "outputs": []
    },
    {
      "cell_type": "code",
      "metadata": {
        "id": "uYR_0GzTr-iz",
        "colab": {
          "base_uri": "https://localhost:8080/"
        },
        "outputId": "551e2d6c-088c-4079-b0fb-bf7dc4ad4318"
      },
      "source": [
        "cd /content/drive/MyDrive/DeepLearningTasks/FaceMaskDetection"
      ],
      "execution_count": 1,
      "outputs": [
        {
          "output_type": "stream",
          "name": "stdout",
          "text": [
            "/content/drive/MyDrive/DeepLearningTasks/FaceMaskDetection\n"
          ]
        }
      ]
    },
    {
      "cell_type": "code",
      "metadata": {
        "id": "QaCxWSnsPJ2Y",
        "outputId": "213f4674-d047-4499-f470-2dd7fbecbb9f",
        "colab": {
          "base_uri": "https://localhost:8080/"
        }
      },
      "source": [
        "%%writefile config.py\n",
        "\n",
        "batch_size = 32\n",
        "epochs = 5\n",
        "lr = 0.0001\n",
        "width = height = 128"
      ],
      "execution_count": 2,
      "outputs": [
        {
          "output_type": "stream",
          "name": "stdout",
          "text": [
            "Overwriting config.py\n"
          ]
        }
      ]
    },
    {
      "cell_type": "code",
      "metadata": {
        "id": "Mx8w2V0x1irP",
        "outputId": "e219261c-15be-4c20-e182-25d3d39431b7",
        "colab": {
          "base_uri": "https://localhost:8080/"
        }
      },
      "source": [
        "from google.colab import drive\n",
        "drive.mount('/content/drive')"
      ],
      "execution_count": 5,
      "outputs": [
        {
          "output_type": "stream",
          "name": "stdout",
          "text": [
            "Mounted at /content/drive\n"
          ]
        }
      ]
    },
    {
      "cell_type": "code",
      "metadata": {
        "id": "68bUlK_rvQrt"
      },
      "source": [
        "import os\n",
        "import numpy as np\n",
        "import tensorflow as tf\n",
        "from tensorflow.keras.layers import Conv2D, BatchNormalization, Flatten, Dense, MaxPool2D, Dropout\n",
        "from tensorflow.keras.preprocessing.image import ImageDataGenerator\n",
        "from keras.models import load_model\n",
        "from config import *"
      ],
      "execution_count": 3,
      "outputs": []
    },
    {
      "cell_type": "code",
      "metadata": {
        "id": "jqO7y3EysNWi",
        "colab": {
          "base_uri": "https://localhost:8080/"
        },
        "outputId": "4064479d-09eb-4d00-c6d5-e1eb10cd38ec"
      },
      "source": [
        "data_generator = ImageDataGenerator(\n",
        "    rescale = 1/.255,\n",
        "    horizontal_flip=True\n",
        ")\n",
        "\n",
        "train_data = data_generator.flow_from_directory(\n",
        "    \"/content/Face Mask Dataset/Train\",\n",
        "    target_size = (width, height),\n",
        "    batch_size = batch_size,\n",
        "    class_mode = 'categorical',\n",
        "    shuffle = True,\n",
        ")\n",
        "\n",
        "val_data = data_generator.flow_from_directory(\n",
        "    \"/content/Face Mask Dataset/Validation\",\n",
        "    target_size = (width, height),\n",
        "    batch_size = batch_size,\n",
        "    class_mode = 'categorical',\n",
        "    shuffle = True,\n",
        ")\n",
        "\n",
        "print(np.bincount(train_data.labels))\n",
        "print(np.bincount(val_data.labels))"
      ],
      "execution_count": 4,
      "outputs": [
        {
          "output_type": "stream",
          "name": "stdout",
          "text": [
            "Found 10000 images belonging to 2 classes.\n",
            "Found 800 images belonging to 2 classes.\n",
            "[5000 5000]\n",
            "[400 400]\n"
          ]
        }
      ]
    },
    {
      "cell_type": "code",
      "metadata": {
        "id": "GRTdyrG-wKDl"
      },
      "source": [
        "model = tf.keras.models.Sequential([\n",
        "        Conv2D(32, (3, 3), activation='relu', input_shape=(width, height, 3)),\n",
        "        Conv2D(32, (3, 3), activation='relu'),\n",
        "        BatchNormalization(),\n",
        "        MaxPool2D(),\n",
        "        Conv2D(64, (3, 3), activation='relu'),\n",
        "        Conv2D(64, (3, 3), activation='relu'),\n",
        "        BatchNormalization(),\n",
        "        MaxPool2D(),\n",
        "        Conv2D(128, (3, 3), activation='relu'),\n",
        "        Conv2D(128, (3, 3), activation='relu'),\n",
        "        BatchNormalization(),\n",
        "        MaxPool2D(),\n",
        "        Flatten(),\n",
        "        Dense(128, activation='relu'),\n",
        "        Dense(2, activation='softmax')\n",
        "])"
      ],
      "execution_count": 5,
      "outputs": []
    },
    {
      "cell_type": "code",
      "metadata": {
        "id": "EZFn-BdrmCZU"
      },
      "source": [
        "model.compile(loss=tf.keras.losses.categorical_crossentropy,\n",
        "              optimizer=tf.keras.optimizers.Adam(learning_rate=lr),\n",
        "                             metrics=['accuracy'])"
      ],
      "execution_count": 6,
      "outputs": []
    },
    {
      "cell_type": "code",
      "metadata": {
        "colab": {
          "base_uri": "https://localhost:8080/"
        },
        "id": "3n19mgaTmExB",
        "outputId": "dcfb8d4e-6337-4b8f-b01d-9bce2772bab7"
      },
      "source": [
        "model.fit(train_data,\n",
        "          steps_per_epoch=train_data.samples/batch_size,\n",
        "          validation_data=val_data,\n",
        "          validation_steps=val_data.samples/batch_size,\n",
        "          batch_size=batch_size,\n",
        "          epochs=epochs,\n",
        "          )"
      ],
      "execution_count": 7,
      "outputs": [
        {
          "output_type": "stream",
          "name": "stdout",
          "text": [
            "Epoch 1/5\n",
            "312/312 [==============================] - 915s 3s/step - loss: 0.1293 - accuracy: 0.9663 - val_loss: 0.0441 - val_accuracy: 0.9862\n",
            "Epoch 2/5\n",
            "312/312 [==============================] - 935s 3s/step - loss: 0.0376 - accuracy: 0.9886 - val_loss: 0.0236 - val_accuracy: 0.9912\n",
            "Epoch 3/5\n",
            "312/312 [==============================] - 923s 3s/step - loss: 0.0207 - accuracy: 0.9942 - val_loss: 0.1194 - val_accuracy: 0.9550\n",
            "Epoch 4/5\n",
            "312/312 [==============================] - 911s 3s/step - loss: 0.0163 - accuracy: 0.9947 - val_loss: 0.0702 - val_accuracy: 0.9775\n",
            "Epoch 5/5\n",
            "312/312 [==============================] - 931s 3s/step - loss: 0.0184 - accuracy: 0.9950 - val_loss: 0.0318 - val_accuracy: 0.9900\n"
          ]
        },
        {
          "output_type": "execute_result",
          "data": {
            "text/plain": [
              "<keras.callbacks.History at 0x7f0da750fed0>"
            ]
          },
          "metadata": {},
          "execution_count": 7
        }
      ]
    },
    {
      "cell_type": "code",
      "metadata": {
        "id": "UO3j_7FlmnpC"
      },
      "source": [
        "model.save(\"/content/drive/MyDrive/DeepLearningTasks/FaceMaskDetection/model.h5\")"
      ],
      "execution_count": 8,
      "outputs": []
    },
    {
      "cell_type": "code",
      "metadata": {
        "colab": {
          "base_uri": "https://localhost:8080/"
        },
        "id": "LHCo-O5mmoTa",
        "outputId": "0b42e09a-3736-4912-8903-a13780faaaed"
      },
      "source": [
        "test_data_path = '/content/Face Mask Dataset/Test'\n",
        "model = load_model('/content/drive/MyDrive/DeepLearningTasks/FaceMaskDetection/model.h5')\n",
        "\n",
        "data_generator = ImageDataGenerator(rescale = 1/.255)\n",
        "\n",
        "test_data = data_generator.flow_from_directory(\n",
        "    \"/content/Face Mask Dataset/Test\",\n",
        "    target_size = (width, height),\n",
        "    batch_size=batch_size,\n",
        "    class_mode = 'categorical',\n",
        "    shuffle = False,\n",
        ")\n",
        "\n",
        "model.evaluate(test_data)"
      ],
      "execution_count": 9,
      "outputs": [
        {
          "output_type": "stream",
          "name": "stdout",
          "text": [
            "Found 992 images belonging to 2 classes.\n",
            "31/31 [==============================] - 22s 710ms/step - loss: 0.0402 - accuracy: 0.9839\n"
          ]
        },
        {
          "output_type": "execute_result",
          "data": {
            "text/plain": [
              "[0.04020189493894577, 0.9838709831237793]"
            ]
          },
          "metadata": {},
          "execution_count": 9
        }
      ]
    },
    {
      "cell_type": "code",
      "metadata": {
        "colab": {
          "base_uri": "https://localhost:8080/"
        },
        "id": "pQn3F_ZAmreC",
        "outputId": "71e8cc92-2128-4252-8ee1-834899c527fe"
      },
      "source": [
        "from sklearn.metrics import classification_report, confusion_matrix\n",
        "\n",
        "Y_pred = model.predict(test_data)\n",
        "y_pred = np.argmax(Y_pred, axis = 1)\n",
        "print('confusion Matrix')\n",
        "print(confusion_matrix(test_data.classes, y_pred))\n",
        "\n",
        "target_names = list(test_data.class_indices.keys())\n",
        "print('Classification Report')\n",
        "print(classification_report(test_data.classes, y_pred, target_names=target_names))"
      ],
      "execution_count": 10,
      "outputs": [
        {
          "output_type": "stream",
          "name": "stdout",
          "text": [
            "confusion Matrix\n",
            "[[475   8]\n",
            " [  8 501]]\n",
            "Classification Report\n",
            "              precision    recall  f1-score   support\n",
            "\n",
            "    WithMask       0.98      0.98      0.98       483\n",
            " WithoutMask       0.98      0.98      0.98       509\n",
            "\n",
            "    accuracy                           0.98       992\n",
            "   macro avg       0.98      0.98      0.98       992\n",
            "weighted avg       0.98      0.98      0.98       992\n",
            "\n"
          ]
        }
      ]
    },
    {
      "cell_type": "code",
      "metadata": {
        "id": "Dxsk-oH0mG9Q"
      },
      "source": [
        ""
      ],
      "execution_count": null,
      "outputs": []
    }
  ]
}